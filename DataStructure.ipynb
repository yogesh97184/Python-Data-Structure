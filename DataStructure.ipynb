{
  "nbformat": 4,
  "nbformat_minor": 0,
  "metadata": {
    "colab": {
      "provenance": []
    },
    "kernelspec": {
      "name": "python3",
      "display_name": "Python 3"
    },
    "language_info": {
      "name": "python"
    }
  },
  "cells": [
    {
      "cell_type": "markdown",
      "source": [
        "# Data Structure Assignment"
      ],
      "metadata": {
        "id": "YqHervUatYLo"
      }
    },
    {
      "cell_type": "markdown",
      "source": [
        "- THEORY QUESTIONS\n",
        "- Q1. What are data structures, and why are they important ?\n",
        "  - Data structures are ways of organizing and storing data. They are important because they help programs run faster and use memory more efficiently."
      ],
      "metadata": {
        "id": "Ntpgl0q9tlxa"
      }
    },
    {
      "cell_type": "markdown",
      "source": [
        "Q2. Explain the difference between mutable and immutable data types with examples ?\n",
        " - Mutable data types are those whose values can be changed or modified after after they are created.\n",
        "   - Example :\n",
        "   - List : You can change, add, or remove elements in a list.\n",
        "   - my_list = [1, 2, 3] my_list[0] = 10  # Modifying the first element\n",
        " - Immutable data types are those whose values cannot be changed once they are created.  \n",
        "   - Example :\n",
        "   - Tuple : You cannnot change, add, or remove elements from a tuple.\n",
        "   - my_tuple = (1, 2, 3)# my_tuple[0] = 10  # This would raise an error"
      ],
      "metadata": {
        "id": "MS-1grGiuTzl"
      }
    },
    {
      "cell_type": "markdown",
      "source": [
        "Q3. What are the main differences between lists and tuples in Python ?\n",
        "  - The main reasons between list and tuple in Python are :\n",
        "    - Mutability : Lists are mutable, meaning thier elements can be modified, while tuples are immutable, meaning thier elements cannot be changed after creation.\n",
        "    - Syntax : Lists are defiend using square brackets [], whereas tuples are defiend using parentheses ()."
      ],
      "metadata": {
        "id": "wbCLvYPGw6hI"
      }
    },
    {
      "cell_type": "markdown",
      "source": [
        "Q4. Describe how dictionaries store data ?\n",
        "  - Dictionaries in Python store data in key-value pairs. Each key is unique, and it is associated with a corresponding value. The data is stored in an unordered manner, meaning the order of key-value pairs is not guaranteed.\n",
        "    - Key: A unique identifier used to access the value.\n",
        "    - Value: The data associated with the key."
      ],
      "metadata": {
        "id": "6IyzzGNRyecX"
      }
    },
    {
      "cell_type": "markdown",
      "source": [
        "Q5. Why might you use a set instead of a list in Python ?\n",
        "  - You might use a set instead of a list in Python for the following reasons:\n",
        "   - Uniqueness: Sets automatically enforce uniqueness, meaning they do not allow duplicate elements, while lists can contain duplicates.\n",
        "   - Faster membership testing: Sets offer faster performance for checking if an element exists (using in), as they are implemented using hash tables, whereas lists require a linear search."
      ],
      "metadata": {
        "id": "VMYkiDnNzFNA"
      }
    },
    {
      "cell_type": "markdown",
      "source": [
        "Q6. What is a string in Python, and how is it different from a list ?\n",
        "  -  A string in Python is a sequence of characters, used to represent text. It is enclosed in either single quotes (') or double quotes (\").\n",
        "\n",
        "  - A string is for text and cannot be changed. A list can hold various types of data and can be changed."
      ],
      "metadata": {
        "id": "gjNx7q_JzcZ0"
      }
    },
    {
      "cell_type": "markdown",
      "source": [
        "Q7. How do tuples ensure data integrity in Python ?\n",
        "  - Tuples ensure data integrity in Python because they are immutable, meaning once you create a tuple, you cannot change, add, or remove any of its elements. This makes sure that the data inside a tuple stays the same throughout the program, protecting it from accidental changes."
      ],
      "metadata": {
        "id": "En0ySKrQzwdN"
      }
    },
    {
      "cell_type": "markdown",
      "source": [
        "Q8. What is a hash table, and how does it relate to dictionaries in Python ?\n",
        "  -  A hash table is a data structure that stores key-value pairs and uses a special function (called a hash function) to convert the key into an index where the value is stored. This allows for fast lookups, insertions, and deletions."
      ],
      "metadata": {
        "id": "elhEH5BRz7Iz"
      }
    },
    {
      "cell_type": "markdown",
      "source": [
        "Q9: Can lists contain different data types in Python ?\n",
        "  -  Yes, lists in Python can contain different data types. A list can hold a mix of numbers, strings, booleans, or even other lists."
      ],
      "metadata": {
        "id": "5C6A6pa10Bey"
      }
    },
    {
      "cell_type": "markdown",
      "source": [
        "Q10. Explain why strings are immutable in Python ?\n",
        "   - Strings are immutable in Python because once they are created, their content cannot be changed. This helps make programs faster and safer by preventing accidental changes to the data. If you need to modify a string, Python creates a new string with the changes instead of changing the original one."
      ],
      "metadata": {
        "id": "coou2WLP0Gyj"
      }
    },
    {
      "cell_type": "markdown",
      "source": [
        "Q11. What advantages do dictionaries offer over lists for certain tasks ?\n",
        "   -  Dictionaries offer several advantages over lists for certain tasks:\n",
        "     - Faster Lookups: You can quickly find a value using a key in a dictionary, while with a list, you have to search through all the items.\n",
        "     - Key-Value Pairs: Dictionaries store data as key-value pairs, making it easier to organize and access data based on a specific key, unlike lists which just store values in order.\n",
        "     - No Duplicates for Keys: In a dictionary, each key is unique, so you don't need to worry about duplicate keys, while lists can have duplicate items."
      ],
      "metadata": {
        "id": "p3IJLHS60MUc"
      }
    },
    {
      "cell_type": "markdown",
      "source": [
        "Q12. Describe a scenario where using a tuple would be preferable over a list ?\n",
        "   - A tuple would be better than a list if you need to store data that should not be changed. For example, if you're storing a date (like year, month, day), you don’t want the values to change by accident."
      ],
      "metadata": {
        "id": "5u5J9v-30jVK"
      }
    },
    {
      "cell_type": "markdown",
      "source": [
        "Q13. How do sets handle duplicate values in Python ?\n",
        "   - Sets automatically remove duplicate values. If you try to add a duplicate value to a set, it will only keep one copy of that value."
      ],
      "metadata": {
        "id": "YyhnneJg0nCi"
      }
    },
    {
      "cell_type": "markdown",
      "source": [
        "Q14. How does the “in” keyword work differently for lists and dictionaries ?\n",
        "   -  The in keyword works differently for lists and dictionaries in Python:\n",
        "     - For lists: It checks if a value is present in the list. For dictionaries: It checks if a key is present in the dictionary, not the value."
      ],
      "metadata": {
        "id": "XrGeiyPv0sZz"
      }
    },
    {
      "cell_type": "markdown",
      "source": [
        "Q15. Can you modify the elements of a tuple? Explain why or why not ?\n",
        "   -  No, you cannot modify the elements of a tuple because tuples are immutable. Once a tuple is created, its values cannot be changed, added, or removed. This is to protect the data from being accidentally changed."
      ],
      "metadata": {
        "id": "otSUp3tr03OC"
      }
    },
    {
      "cell_type": "markdown",
      "source": [
        "Q16. What is a nested dictionary, and give an example of its use case ?\n",
        "   -  A nested dictionary is a dictionary that contains other dictionaries as values. This allows you to organize data in multiple layers.\n",
        "     - Example: students = { \"Millan\": {\"age\": 20, \"grades\": [85, 90, 88]}, \"Rex\": {\"age\": 22, \"grades\": [78, 82, 80]}\n",
        "   - Use case: You can access specific information about a student, like Bob's age, by using the student's name as the key, and then the age key inside that student's dictionary.\n",
        "     - Example: print(students[\"Rex\"][\"age\"])  "
      ],
      "metadata": {
        "id": "HlWcAG3_08x0"
      }
    },
    {
      "cell_type": "markdown",
      "source": [
        "Q17. Describe the time complexity of accessing elements in a dictionary ?\n",
        "   - Accessing elements in a dictionary is very fast and has a time complexity of O(1), which means it takes the same amount of time no matter how many items are in the dictionary.\n",
        "   - This is because dictionaries use a special method (hashing) to find the value quickly using the key."
      ],
      "metadata": {
        "id": "FI_bYqdv1Sam"
      }
    },
    {
      "cell_type": "markdown",
      "source": [
        "Q18. In what situations are lists preferred over dictionaries ?\n",
        "   - Lists are preferred over dictionaries in situations where:\n",
        "     - Order matters: If you need to keep items in a specific order, use a list.\n",
        "     - Index-based access: If you need to access items by their position (like the first, second, etc.), lists are better.\n",
        "     - Storing similar items: If you're storing a collection of similar items (like numbers or names), a list is a good choice."
      ],
      "metadata": {
        "id": "-Ja4VAI01dR7"
      }
    },
    {
      "cell_type": "markdown",
      "source": [
        "Q19. Why are dictionaries considered unordered, and how does that affect data retrieval ?\n",
        "   - Dictionaries are considered unordered because the items (key-value pairs) do not have a specific order. This means the items might not appear in the same order every time you access them.\n",
        "   - However, this doesn't affect data retrieval. You can still quickly find values by their keys regardless of the order of the items."
      ],
      "metadata": {
        "id": "PLXw__kh1p9z"
      }
    },
    {
      "cell_type": "markdown",
      "source": [
        "Q20. Explain the difference between a list and a dictionary in terms of data retrieval ?\n",
        "   - The main difference between a list and a dictionary in terms of data retrieval is how you access the data:\n",
        "     - List: You access elements by their index (position in the list).\n",
        "     - Dictionary: You access elements by their key, not by position."
      ],
      "metadata": {
        "id": "qIpPpYrr1ygu"
      }
    },
    {
      "cell_type": "markdown",
      "source": [
        "# PRATICAL QUESTIONS"
      ],
      "metadata": {
        "id": "QCOT8gPe2DnO"
      }
    },
    {
      "cell_type": "markdown",
      "source": [
        "Q1. Write a code to create a string with your name and print it ?"
      ],
      "metadata": {
        "id": "hlvx9n4a2Hgq"
      }
    },
    {
      "cell_type": "code",
      "source": [
        "my_name = \"Yogesh\"\n",
        "print(my_name)"
      ],
      "metadata": {
        "colab": {
          "base_uri": "https://localhost:8080/"
        },
        "id": "m06--atp2Kyk",
        "outputId": "1efbe0dc-ae46-4f3a-a44a-2ff8501c57a3"
      },
      "execution_count": 1,
      "outputs": [
        {
          "output_type": "stream",
          "name": "stdout",
          "text": [
            "Yogesh\n"
          ]
        }
      ]
    },
    {
      "cell_type": "markdown",
      "source": [
        "Q2. Write a code to find the length of the string \"Hello World\" ?\n"
      ],
      "metadata": {
        "id": "DaJgz6Mj2ZGl"
      }
    },
    {
      "cell_type": "code",
      "source": [
        "my_string = \"Hello World\"\n",
        "length = len(my_string)\n",
        "print(length)"
      ],
      "metadata": {
        "colab": {
          "base_uri": "https://localhost:8080/"
        },
        "id": "_P8etDWy2cP5",
        "outputId": "e5578a44-8b2d-4c76-9183-6822d95f0f64"
      },
      "execution_count": 2,
      "outputs": [
        {
          "output_type": "stream",
          "name": "stdout",
          "text": [
            "11\n"
          ]
        }
      ]
    },
    {
      "cell_type": "markdown",
      "source": [
        "Q3. Write a code to slice the first 3 characters from the string \"Python Programming\" ?\n"
      ],
      "metadata": {
        "id": "8tilBJow2roH"
      }
    },
    {
      "cell_type": "code",
      "source": [
        "my_string = \"Python Programming\"\n",
        "sliced_string = my_string[:3]\n",
        "print(sliced_string)"
      ],
      "metadata": {
        "colab": {
          "base_uri": "https://localhost:8080/"
        },
        "id": "YYKamRM62ucS",
        "outputId": "e66eb359-d8aa-410a-fdd8-deefb820396f"
      },
      "execution_count": 3,
      "outputs": [
        {
          "output_type": "stream",
          "name": "stdout",
          "text": [
            "Pyt\n"
          ]
        }
      ]
    },
    {
      "cell_type": "markdown",
      "source": [
        "Q4. Write a code to convert the string \"hello\" to uppercase ?\n"
      ],
      "metadata": {
        "id": "fd-JP0h73Ddf"
      }
    },
    {
      "cell_type": "code",
      "source": [
        "my_string = \"hello\"\n",
        "uppercase_string = my_string.upper()\n",
        "print(uppercase_string)"
      ],
      "metadata": {
        "colab": {
          "base_uri": "https://localhost:8080/"
        },
        "id": "njYMqdWn3GuX",
        "outputId": "7e7d57cc-65a5-4a7e-8ebc-ecc0d5485385"
      },
      "execution_count": 4,
      "outputs": [
        {
          "output_type": "stream",
          "name": "stdout",
          "text": [
            "HELLO\n"
          ]
        }
      ]
    },
    {
      "cell_type": "markdown",
      "source": [
        "Q5. Write a code to replace the word \"apple\" with \"orange\" in the string \"I like apple\" ?\n"
      ],
      "metadata": {
        "id": "Q6MvgHZQ3W0Z"
      }
    },
    {
      "cell_type": "code",
      "source": [
        "my_string = \"I like apple\"\n",
        "updated_string = my_string.replace(\"apple\",\"orange\")\n",
        "print(updated_string)"
      ],
      "metadata": {
        "colab": {
          "base_uri": "https://localhost:8080/"
        },
        "id": "VSfaxcrX3Zbu",
        "outputId": "2840079e-d67e-4a20-d314-fadd4256bd5a"
      },
      "execution_count": 5,
      "outputs": [
        {
          "output_type": "stream",
          "name": "stdout",
          "text": [
            "I like orange\n"
          ]
        }
      ]
    },
    {
      "cell_type": "markdown",
      "source": [
        "Q6. Write a code to create a list with numbers 1 to 5 and print it ?\n"
      ],
      "metadata": {
        "id": "0F9FuvcM3x5p"
      }
    },
    {
      "cell_type": "code",
      "source": [
        "my_list = [1,2,3,4,5]\n",
        "print(my_list)"
      ],
      "metadata": {
        "colab": {
          "base_uri": "https://localhost:8080/"
        },
        "id": "gnbH7dHm31jv",
        "outputId": "691b4da4-57e5-4543-98bd-2aef3b62f7da"
      },
      "execution_count": 6,
      "outputs": [
        {
          "output_type": "stream",
          "name": "stdout",
          "text": [
            "[1, 2, 3, 4, 5]\n"
          ]
        }
      ]
    },
    {
      "cell_type": "markdown",
      "source": [
        "Q7. Write a code to append the number 10 to the list [1, 2, 3, 4] ?"
      ],
      "metadata": {
        "id": "lXVzsjlB3_Va"
      }
    },
    {
      "cell_type": "code",
      "source": [
        "my_list = [1,2,3,4]\n",
        "my_list.append(10)\n",
        "print(my_list)"
      ],
      "metadata": {
        "colab": {
          "base_uri": "https://localhost:8080/"
        },
        "id": "JOmkeVsy4C6U",
        "outputId": "2d1ef8a5-2c7d-4e00-8874-c513cec4c265"
      },
      "execution_count": 8,
      "outputs": [
        {
          "output_type": "stream",
          "name": "stdout",
          "text": [
            "[1, 2, 3, 4, 10]\n"
          ]
        }
      ]
    },
    {
      "cell_type": "markdown",
      "source": [
        "Q8. Write a code to remove the number 3 from the list [1, 2, 3, 4, 5]\n"
      ],
      "metadata": {
        "id": "KnpbXU8d4T--"
      }
    },
    {
      "cell_type": "code",
      "source": [
        "my_list = [1,2,3,4,5]\n",
        "my_list.remove(3)\n",
        "print(my_list)"
      ],
      "metadata": {
        "colab": {
          "base_uri": "https://localhost:8080/"
        },
        "id": "A272O1sb4W4I",
        "outputId": "a2fbb6d9-88be-40a7-a173-be509a81b682"
      },
      "execution_count": 9,
      "outputs": [
        {
          "output_type": "stream",
          "name": "stdout",
          "text": [
            "[1, 2, 4, 5]\n"
          ]
        }
      ]
    },
    {
      "cell_type": "markdown",
      "source": [
        "Q9. Write a code to access the second element in the list ['a', 'b', 'c', 'd'] ?\n"
      ],
      "metadata": {
        "id": "_-UmoQX14hvr"
      }
    },
    {
      "cell_type": "code",
      "source": [
        "my_list = ['a','b','c','d']\n",
        "print(my_list[1])"
      ],
      "metadata": {
        "colab": {
          "base_uri": "https://localhost:8080/"
        },
        "id": "KlEufpSp4kqV",
        "outputId": "58561a46-8b8a-4c92-b8ff-d89dbad5ac47"
      },
      "execution_count": 12,
      "outputs": [
        {
          "output_type": "stream",
          "name": "stdout",
          "text": [
            "b\n"
          ]
        }
      ]
    },
    {
      "cell_type": "markdown",
      "source": [
        "Q10. Write a code to reverse the list [10, 20, 30, 40, 50].\n"
      ],
      "metadata": {
        "id": "RLh-9_5j45pB"
      }
    },
    {
      "cell_type": "code",
      "source": [
        "my_list = [10,20,30,40,50]\n",
        "my_list.reverse()\n",
        "print(my_list)"
      ],
      "metadata": {
        "colab": {
          "base_uri": "https://localhost:8080/"
        },
        "id": "LXhlQ3QN48mH",
        "outputId": "3bc6fc35-8039-4207-abf0-d79041bb980f"
      },
      "execution_count": 15,
      "outputs": [
        {
          "output_type": "stream",
          "name": "stdout",
          "text": [
            "[50, 40, 30, 20, 10]\n"
          ]
        }
      ]
    },
    {
      "cell_type": "markdown",
      "source": [
        "Q11. Write a code to create a tuple with the elements 10, 20, 30 and print it ?\n"
      ],
      "metadata": {
        "id": "Cw1IY6ld5TDR"
      }
    },
    {
      "cell_type": "code",
      "source": [
        "my_tuple = (10,20,30)\n",
        "print(my_tuple)"
      ],
      "metadata": {
        "colab": {
          "base_uri": "https://localhost:8080/"
        },
        "id": "Eg2TJpI15Vne",
        "outputId": "064c2171-c098-4e9b-b648-b1ec74eb7bc6"
      },
      "execution_count": 16,
      "outputs": [
        {
          "output_type": "stream",
          "name": "stdout",
          "text": [
            "(10, 20, 30)\n"
          ]
        }
      ]
    },
    {
      "cell_type": "markdown",
      "source": [
        "Q12. Write a code to access the first element of the tuple ('apple', 'banana', 'cherry') ?\n"
      ],
      "metadata": {
        "id": "iSk_SeOk5fzI"
      }
    },
    {
      "cell_type": "code",
      "source": [
        "my_tuple = ('apple','banana','cherry')\n",
        "print(my_tuple[0])"
      ],
      "metadata": {
        "colab": {
          "base_uri": "https://localhost:8080/"
        },
        "id": "pdjGBTD15iwm",
        "outputId": "40ce0788-0944-4f6d-85b2-16b6c4342a82"
      },
      "execution_count": 18,
      "outputs": [
        {
          "output_type": "stream",
          "name": "stdout",
          "text": [
            "apple\n"
          ]
        }
      ]
    },
    {
      "cell_type": "markdown",
      "source": [
        "Q13. Write a code to count how many times the number 2 appears in the tuple (1, 2, 3, 2, 4, 2).\n"
      ],
      "metadata": {
        "id": "t7aB6PVz51u2"
      }
    },
    {
      "cell_type": "code",
      "source": [
        "my_tuple = (1,2,3,2,4,2)\n",
        "repeat_number2 = my_tuple.count(2)\n",
        "print(repeat_number2)"
      ],
      "metadata": {
        "colab": {
          "base_uri": "https://localhost:8080/"
        },
        "id": "9mB4h9ST54Ag",
        "outputId": "ba689402-e9ef-40d1-d195-ffddbc54a2c7"
      },
      "execution_count": 19,
      "outputs": [
        {
          "output_type": "stream",
          "name": "stdout",
          "text": [
            "3\n"
          ]
        }
      ]
    },
    {
      "cell_type": "markdown",
      "source": [
        "Q14. Write a code to find the index of the element \"cat\" in the tuple ('dog', 'cat', 'rabbit').\n"
      ],
      "metadata": {
        "id": "UL6-_Lvf6H7v"
      }
    },
    {
      "cell_type": "code",
      "source": [
        "my_tuple = ('dog','cat','rabbit')\n",
        "index = my_tuple.index('cat')\n",
        "print(index)"
      ],
      "metadata": {
        "colab": {
          "base_uri": "https://localhost:8080/"
        },
        "id": "zCvNgM8w6KeO",
        "outputId": "5949a466-81f0-4666-8b88-5f39b52a8182"
      },
      "execution_count": 20,
      "outputs": [
        {
          "output_type": "stream",
          "name": "stdout",
          "text": [
            "1\n"
          ]
        }
      ]
    },
    {
      "cell_type": "markdown",
      "source": [
        "Q15.  Write a code to check if the element \"banana\" is in the tuple ('apple', 'orange', 'banana').\n"
      ],
      "metadata": {
        "id": "YX1KcfuH6dso"
      }
    },
    {
      "cell_type": "code",
      "source": [
        "my_tuple = ('apple','orange','banana')\n",
        "banana_present = 'banana' in my_tuple\n",
        "print(banana_present)"
      ],
      "metadata": {
        "colab": {
          "base_uri": "https://localhost:8080/"
        },
        "id": "X3BDh1yC6ghH",
        "outputId": "7f104af6-e5d8-4015-b74c-cc26cb09a863"
      },
      "execution_count": 21,
      "outputs": [
        {
          "output_type": "stream",
          "name": "stdout",
          "text": [
            "True\n"
          ]
        }
      ]
    },
    {
      "cell_type": "markdown",
      "source": [
        "Q16. Write a code to create a set with the elements 1, 2, 3, 4, 5 and print it.\n"
      ],
      "metadata": {
        "id": "GS3TuxhM62pt"
      }
    },
    {
      "cell_type": "code",
      "source": [
        "my_set = {1,2,3,4,5}\n",
        "print(my_set)"
      ],
      "metadata": {
        "colab": {
          "base_uri": "https://localhost:8080/"
        },
        "id": "3sR_UcKO66I0",
        "outputId": "f3108eae-b9d7-479a-fc53-68f1d9c571a9"
      },
      "execution_count": 22,
      "outputs": [
        {
          "output_type": "stream",
          "name": "stdout",
          "text": [
            "{1, 2, 3, 4, 5}\n"
          ]
        }
      ]
    },
    {
      "cell_type": "markdown",
      "source": [
        "Q17:  Write a code to add the element 6 to the set {1, 2, 3, 4}.\n"
      ],
      "metadata": {
        "id": "F9fofH6t7Fpl"
      }
    },
    {
      "cell_type": "code",
      "source": [
        "my_set = {1,2,3,4}\n",
        "my_set.add(6)\n",
        "print(my_set)"
      ],
      "metadata": {
        "colab": {
          "base_uri": "https://localhost:8080/"
        },
        "id": "X5vZCONQ7Hrx",
        "outputId": "ab43429a-7c33-4957-974d-8e366e3e41e5"
      },
      "execution_count": 24,
      "outputs": [
        {
          "output_type": "stream",
          "name": "stdout",
          "text": [
            "{1, 2, 3, 4, 6}\n"
          ]
        }
      ]
    },
    {
      "cell_type": "markdown",
      "source": [
        "Q19: Write a code to access the first element of the tuple ('apple', 'banana', 'cherry').\n"
      ],
      "metadata": {
        "id": "S1IH0bk27XF6"
      }
    },
    {
      "cell_type": "code",
      "source": [
        "my_tuple = ('apple','banana','cherry')\n",
        "print(my_tuple[0])"
      ],
      "metadata": {
        "colab": {
          "base_uri": "https://localhost:8080/"
        },
        "id": "r20Ttgi67ZMX",
        "outputId": "4b1edaed-2682-4bcb-fe43-dd4c62d9086d"
      },
      "execution_count": 25,
      "outputs": [
        {
          "output_type": "stream",
          "name": "stdout",
          "text": [
            "apple\n"
          ]
        }
      ]
    },
    {
      "cell_type": "markdown",
      "source": [
        "Q20: Write a code to count how many times the number 2 appears in the tuple (1, 2, 3, 2, 4, 2).\n"
      ],
      "metadata": {
        "id": "caVwGdFU7uO4"
      }
    },
    {
      "cell_type": "code",
      "source": [
        "my_tuple = (1,2,3,2,4,2)\n",
        "repeat_number2 = my_tuple.count(2)\n",
        "print(repeat_number2)"
      ],
      "metadata": {
        "colab": {
          "base_uri": "https://localhost:8080/"
        },
        "id": "iezt5JPp7wlM",
        "outputId": "a6d26216-1ade-45c3-fa45-2b7db75e8dc4"
      },
      "execution_count": 26,
      "outputs": [
        {
          "output_type": "stream",
          "name": "stdout",
          "text": [
            "3\n"
          ]
        }
      ]
    },
    {
      "cell_type": "markdown",
      "source": [
        "Q21: Write a code to find the index of the element \"cat\" in the tuple ('dog', 'cat', 'rabbit').\n"
      ],
      "metadata": {
        "id": "cKJE7fe573F2"
      }
    },
    {
      "cell_type": "code",
      "source": [
        "my_tuple = ('dog','cat','rabbit')\n",
        "index = my_tuple.index('cat')\n",
        "print(index)"
      ],
      "metadata": {
        "colab": {
          "base_uri": "https://localhost:8080/"
        },
        "id": "Dv8H8Tq278MK",
        "outputId": "a018dd9e-ca7c-41ba-accc-36fe3987d4ef"
      },
      "execution_count": 27,
      "outputs": [
        {
          "output_type": "stream",
          "name": "stdout",
          "text": [
            "1\n"
          ]
        }
      ]
    },
    {
      "cell_type": "markdown",
      "source": [
        "Q22: Write a code to check if the element \"banana\" is in the tuple ('apple', 'orange', 'banana').\n"
      ],
      "metadata": {
        "id": "8gWM2iFI8C1l"
      }
    },
    {
      "cell_type": "code",
      "source": [
        "my_tuple = ('apple','orange','banana')\n",
        "banana_present = 'banana' in my_tuple\n",
        "print(banana_present)"
      ],
      "metadata": {
        "colab": {
          "base_uri": "https://localhost:8080/"
        },
        "id": "mYbr3Igm8FF6",
        "outputId": "55d12fca-eb5f-4596-946a-d5354d7983f1"
      },
      "execution_count": 28,
      "outputs": [
        {
          "output_type": "stream",
          "name": "stdout",
          "text": [
            "True\n"
          ]
        }
      ]
    },
    {
      "cell_type": "markdown",
      "source": [
        "Q23: Write a code to create a set with the elements 1, 2, 3, 4, 5 and print it.\n"
      ],
      "metadata": {
        "id": "P6_p0nZW8Llu"
      }
    },
    {
      "cell_type": "code",
      "source": [
        "my_set = {1,2,3,4,5}\n",
        "print(my_set)"
      ],
      "metadata": {
        "colab": {
          "base_uri": "https://localhost:8080/"
        },
        "id": "Dk5BUgAZ8TFs",
        "outputId": "14141f1a-734a-444a-e931-0f9d9ced3ccb"
      },
      "execution_count": 29,
      "outputs": [
        {
          "output_type": "stream",
          "name": "stdout",
          "text": [
            "{1, 2, 3, 4, 5}\n"
          ]
        }
      ]
    },
    {
      "cell_type": "markdown",
      "source": [
        "Q24: Write a code to add the element 6 to the set {1, 2, 3, 4}.\n"
      ],
      "metadata": {
        "id": "4L97sm5b8VU_"
      }
    },
    {
      "cell_type": "code",
      "source": [
        "my_set = {1,2,3,4}\n",
        "my_set.add(6)\n",
        "print(my_set)"
      ],
      "metadata": {
        "colab": {
          "base_uri": "https://localhost:8080/"
        },
        "id": "vkshGyQo8ZhM",
        "outputId": "a5120275-c07c-4348-aff9-06b74f548c86"
      },
      "execution_count": 30,
      "outputs": [
        {
          "output_type": "stream",
          "name": "stdout",
          "text": [
            "{1, 2, 3, 4, 6}\n"
          ]
        }
      ]
    }
  ]
}